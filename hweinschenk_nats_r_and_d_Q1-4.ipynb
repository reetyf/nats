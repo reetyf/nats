{
 "cells": [
  {
   "cell_type": "markdown",
   "id": "0b1335a9",
   "metadata": {},
   "source": [
    "# Hailey Weinschenk - WSH - R&D Analyst  Questionnaire - March, 2023\n",
    "# Questions 1 - 4"
   ]
  },
  {
   "cell_type": "markdown",
   "id": "4d75aa5f",
   "metadata": {},
   "source": [
    "# 1."
   ]
  },
  {
   "cell_type": "markdown",
   "id": "30d54427",
   "metadata": {},
   "source": [
    "**After the season has ended, you are told a 90-win team played a home game against an 80-win\n",
    "team. Without additional information about the two teams, what is the probability that the\n",
    "home team won?**"
   ]
  },
  {
   "cell_type": "markdown",
   "id": "015107d0",
   "metadata": {},
   "source": [
    "There are a few assumptions that can be made about these teams and their relative win probabilities when facing off against each other. Firstly and most importantly, is team skill. This refers to the win probability of the teams during the year, which simply is their winning percentage (wins/games played). Assuming that this is an extra post season game of some sort, the 90 and 80 wins both occurred in 162 games."
   ]
  },
  {
   "cell_type": "code",
   "execution_count": 23,
   "id": "d7c4cc30",
   "metadata": {},
   "outputs": [
    {
     "data": {
      "text/plain": [
       "(0.5556, 0.4938)"
      ]
     },
     "execution_count": 23,
     "metadata": {},
     "output_type": "execute_result"
    }
   ],
   "source": [
    "ninety_win_per = round(90/162,4)\n",
    "eighty_win_per = round(80/162,4)\n",
    "\n",
    "ninety_win_per, eighty_win_per"
   ]
  },
  {
   "cell_type": "markdown",
   "id": "cb1c094c",
   "metadata": {},
   "source": [
    "So the above figures represent the winning probability for both teams, but there is an important caveat. It is unknown what exactly the record of the opponents were. A .555 percentage against a .600 level schedule is outperforming a .555 perentage against a .400 level schedule. It follows, that performance on field is not directly a reflection of winning percentage, and this would carry over into our one game sample. To account for this lack of knowledge, we can assume that the home team's schedule was .500 level, which is the mean of all strengths of schedule. So, since the road team is slightly worse than .500, their difference from .500 level should be added to the 90 team's chances."
   ]
  },
  {
   "cell_type": "code",
   "execution_count": 24,
   "id": "1c8e5faf",
   "metadata": {},
   "outputs": [
    {
     "data": {
      "text/plain": [
       "(0.5618, 0.4938)"
      ]
     },
     "execution_count": 24,
     "metadata": {},
     "output_type": "execute_result"
    }
   ],
   "source": [
    "diff = .5-eighty_win_per\n",
    "ninety_win_per+=diff\n",
    "\n",
    "ninety_win_per, eighty_win_per"
   ]
  },
  {
   "cell_type": "markdown",
   "id": "21e1d0e0",
   "metadata": {},
   "source": [
    "So these figures can be the initial assumed likelihood of each team winning. However, there is another factor at large in this situation: the 90 win team is playing at home. Home field (court/ice) advantage is notoriously hard to enumerate, but what is unique to MLB, is the actual rules-based advantage for the hosts. In previous years, this includes the home team's league determining the inclusion of a DH when the home team's roster would be more suited for this. But, more significantly, is the advantage that comes with hitting in the bottom of the inning. In 2009, Matt Swartz [estimated](https://sabr.org/journal/article/home-field-advantage/) that the home field advantage for the previous decade hovered around .542 and this is the figure we will use. This .042 advantage is added to the home team and subtracted by the away team."
   ]
  },
  {
   "cell_type": "code",
   "execution_count": 25,
   "id": "e51925e7",
   "metadata": {},
   "outputs": [
    {
     "data": {
      "text/plain": [
       "(0.6038, 0.4518)"
      ]
     },
     "execution_count": 25,
     "metadata": {},
     "output_type": "execute_result"
    }
   ],
   "source": [
    "home_field_adv = .042\n",
    "ninety_win_per += home_field_adv\n",
    "eighty_win_per -=home_field_adv\n",
    "\n",
    "ninety_win_per = round(ninety_win_per,4)\n",
    "eighty_win_per = round(eighty_win_per,4)\n",
    "\n",
    "ninety_win_per,eighty_win_per"
   ]
  },
  {
   "cell_type": "markdown",
   "id": "72b9d64c",
   "metadata": {},
   "source": [
    "So the final estimate of the home team winning this game can be assumed to be ~60.4%."
   ]
  },
  {
   "cell_type": "markdown",
   "id": "a831b7f4",
   "metadata": {},
   "source": [
    "# 2."
   ]
  },
  {
   "cell_type": "markdown",
   "id": "b41e0698",
   "metadata": {},
   "source": [
    "**Suppose you are starting an MLB team from scratch and can pick from the following cores of\n",
    "players including their current contracts. Which would you pick and why?**\n",
    "\n",
    "**A. Vladimir Guerrero Jr., Bo Bichette, and Alek Manoah**\n",
    "\n",
    "**B. Jose Ramirez, Andres Gimenez, and Steven Kwan**"
   ]
  },
  {
   "cell_type": "markdown",
   "id": "b69ba2b9",
   "metadata": {},
   "source": [
    "Before anything else, it must be said that a GM or team president cannot go wrong with either of these cores, which are both teeming with talent and youth. It is for this reason that the Jays and Guardians are thought of as amongst the most exciting, young teams in the MLB. With this being said however, let us break down these cores player-by-player with the simplest measures of performance for their 2022 seasons. This narrowly-timed analysis fails to account for past performance, but suffices at a basic level, as these statistics are the most relevant, recent measurables.\n",
    "\n",
    "### Jays\n",
    "\n",
    "- Vladimir Guerrero Jr, 1B: \n",
    "    - Age 24\n",
    "    - .274/.339/.480 slash \n",
    "    - 32 HR 97 RBI 8 SB\n",
    "    - 3.7 oWAR -0.7 dWAR\n",
    "    - Signed thru 2023, 1 yr/$14.5M (23) \n",
    "    \n",
    "- Bo Bichette, SS:\n",
    "    - Age 25\n",
    "    - .290/.333/.469\n",
    "    - 24 HR 93 RBI 13 SB\n",
    "    - 5.4 oWAR\t0.8 dWAR\n",
    "    - Signed thru 2025, 3 yrs/$33.6M (23-25) \n",
    "- Alec Manoah, RHP:\n",
    "    - Age 23\n",
    "    - 196.2 IP 180 SO 2.24 ERA\n",
    "    - 6.0 dWAR\n",
    "    - Pre Arb, Rookie Deal\n",
    "    - Arb Eligible: 2025   Free Agent: 2028 \n",
    "    \n",
    "### Guardians\n",
    "\n",
    "- Jose Ramirez, 3B: \n",
    "    - Age 30\n",
    "    - .280/.355/.514 slash \n",
    "    - 29 HR\t126 RBI 20 SB\n",
    "    - 5.8 oWAR 0.3 dWAR\n",
    "    - Signed thru 2028, 7 yrs/$141M (22-28)\n",
    "    \n",
    "- Andres Gimenez, SS:\n",
    "    - Age 25\n",
    "    - .297/.371/.466\n",
    "    - 17 HR 69 RBI 20 SB\n",
    "    - 5.6 oWAR\t2.4 dWAR\n",
    "    - Signed thru 2029, 7 yrs/$106.5M (23-29) & 30 team option  \n",
    "- Steven Kwan, OF:\n",
    "    - Age 25\n",
    "    - .298/.373/.400\n",
    "    - 6 HR 52 RBI 19 SB\n",
    "    - 4 oWAR\t1 dWAR\n",
    "    -  Pre Arb Rookie Deal\n",
    "    - Arb Eligible: 2025    Free Agent: 2028 \n",
    "\n",
    "Overall, it's clear that the Guardians players provided more overall value in the 2022 season. This is furthered by the Guardians suprising run to the ALDS, while the Jays failed to advance to the playoffs. This outperformance is slight, and might not exist if not for Guerrero's down year in 2022. Nevertheless, this needs to be factored into the decision. In particular, Gimenez's season stands out as extraordinary considering his contract situation (rookie deal before signing the above deal in the offseason). As a Met fan, I wonder what could have been if Gimenez acheived this success in Queens. \n",
    "\n",
    "Even with this new contract considered, there is evidence to say it is an extremely team friendly deal, similarly to underrated superstar Jose Ramirez only making 20m/yr. With these deals being so adventageous relative to player performance and what both players would garner in FA, it is hard to argue against this core being preferrable.\n",
    "\n",
    "On the other hand, the Jays core has one main advantage: age. The younger relative age of these players \n",
    "provides years of immense skill yet to come. Generally, these younger ages comes arbitration years, rookie deals, and lower tier, shorter contracts. This is very much the case for this set of players, as having a perenial Cy Young winner on a minor league contract is invaluable. However, with Bichette and Vlad Jr. due to receive long term deals that would dwarf Gimenez's and Ramirez's, it becomes hard to imagine all players being able to become locked up. This is highlighted in this brief article which seems to indicate that one of these three players will not be prioritized:\n",
    "- \"However, with five years of team control, the Blue Jays may prioritize negotiations with other members of the young core set to hit free agency sooner. Bo Bichette and Vladimir Guerrero Jr. will reach free agency after the 2025 seasons. By the time Manoah hits free agency after 2027, the current contracts of George Springer, Kevin Gausman, and Chris Bassitt will no longer be on the books.\" https://www.si.com/mlb/bluejays/news/blue-jays-alek-manoah-extension-talks-2023-offseason\n",
    "\n",
    "For these reasons, I believe the answer to 'which core is better' is not simple and might be determined by external team factors; for a win now team who might have immense financial capabilities like the Mets Padres or Dodgers, the Jays young talent would probably be preferrable, especially since I am willfully ignoring Vlad Jr.s 2021 MVP caliber year. However, for a more modestly resourced team who is looking to compete year in and year out, the Guardians core with their team-friendly long term deals would benefit more greatly. "
   ]
  },
  {
   "cell_type": "markdown",
   "id": "5975fe1e",
   "metadata": {},
   "source": [
    "# 3."
   ]
  },
  {
   "cell_type": "markdown",
   "id": "28687b32",
   "metadata": {},
   "source": [
    "**Suppose you have two players.**\n",
    "\n",
    "**Player A has a .400 OBP in 100 PAs, and Player B has a .350 OBP\n",
    "in 500 PAs, both in MLB.**\n",
    "\n",
    "**a) Without any additional information about these players, which player would you expect to\n",
    "have a higher OBP in a game played tomorrow?**,\n",
    "\n",
    "**b) If you chose Player A, now suppose his OBP is .380 rather than .400 – would you still pick\n",
    "Player A? Why?**\n",
    "\n",
    "**c) If you chose Player B, now suppose his OBP is .340 rather than .350 – would you still pick\n",
    "Player B? Why?**`"
   ]
  },
  {
   "cell_type": "markdown",
   "id": "cf4cfb6b",
   "metadata": {},
   "source": [
    "Again as in question 2, both these players are exceptional at getting on base. The MLB average for OBP varies year to year, but overall it hovers in the .320 range. With this being said, however, I would rather employ the services of the latter, as 500 PA provides a large sample size of nearly a full season. Even if this season stands out in the player's resume, one full season of this level of performance might show the player has improved as a result of hard work or study. One example of this that jumps out to me is Daniel Murphy and his move to the Nats in 2016. His OBP jump from 2015 to 2016 was .322 to .390 (seemingly doubled that against the Mets!) This proved not to be a flash in the pan as he sustained a high level of hitting until retirement. \n",
    "\n",
    "Player A's OBP of .400 is spectacular undoubtedly, but in only 100 PAs, it is possible this is only a result of a hot streak relative to the player's actual career baseline. Contrarily to player B, this doesn't even signify a full year of this league leading performance. Even if player B's OBP was 10 points lower, I would chose him, as this still is very high relative to league average, and the key of larger sample is of utmost importance. \n",
    "\n",
    "As for an individual game, it is really hard to determine as their is lots of variability in OBP for 4 or 5 PA. The worst player in the league can have a game where he reaches base safely 4 times, while the MVP can easily go hitless in a third of his games for a particular year. Perhaps player A's OBP is more likely to be higher if he is in the midst of his hot streak, but even if this is the case, this is more of a educated guess."
   ]
  },
  {
   "cell_type": "markdown",
   "id": "07489fb9",
   "metadata": {},
   "source": [
    "# 4.\n"
   ]
  },
  {
   "cell_type": "markdown",
   "id": "9c81c286",
   "metadata": {},
   "source": [
    "**Suppose Barry Bonds comes out of retirement and is back to his peak 2001 level, but there’s one\n",
    "hitch: at his age, he’s only able to hit for one PA per game. He’s currently a free agent, and you\n",
    "work for a contending team.**\n",
    "\n",
    "**How would you quantify his value in a single plate appearance? What ingredients would you\n",
    "need to help you calculate this? How could you then determine when you expect him to bat?**\n",
    "\n",
    "**Next, how would you quantify Bonds’ value to your club? Describe your methodology in detail,\n",
    "including any assumptions and information you would need.**"
   ]
  },
  {
   "cell_type": "markdown",
   "id": "db53e06d",
   "metadata": {},
   "source": [
    "In this thought experiment, Barry Bonds and his mythical 2001 season (during which he ate his veggies) represent the absolute peak of what is statistically possible for a season. The main reason for this, of course, includes his 72 HR, but also is his 177 BB (35 of which were intentional). This results in a preposterous OPS of 1.379. These figures only are trumped by Bonds' 2002-2004 seasons, where pitchers seemingly gave up and refused to pitch to him (2002 68 Intentional BB, 2003 61 IBB, 2004 120 IBB). Just how clearly this increasing exasperation is reflected in his stats is favorite part of reflecting on Bonds' MVP run.\n",
    "\n",
    "\n",
    "Regardless, we need to look to the in game situation to determine when this at bat should be taken. At his age, it is reasonable to assume that Bonds would immediately be pinch run for, so having him bat in a situation where he would immediately be walked and taken out of the game is wasteful. It is reasonable to infer that knowledge of Bonds one-at-bat limitation would only cause managers to walk him intentionally more often (their mindset being \"just get thru this at bat then we'll figure it out\"). This would be magnified if that particular game is at all competitive as the opposing managers would never pitch to the most accomplished home run hitter at the peak of his powers, if at all avoidable.\n",
    "\n",
    "So, to counter this, we would need to save Bonds' at bat for when they can't pitch around him - when the bases are loaded. Now, at least the opposing manager's cowardice would net us a run. The problem, however, lies with the rare occurrence of bases loaded situations throughout a game - teams are not guaranteed to fill the bases every game. Furthermore, saving Bonds strictly for these instances might backfire if the bases loaded situation comes with an insurmountable deficit. So, I would propose a Bonds rule that has conditional inning/run deficit thresholds that allows non-bases loaded Bonds at bats. This complex rule would include situations that allow Bonds to be at bat with fewer and fewer runners on base, from 1st and 2nd down to bases empty. The one condition would be to never ever bat Bonds with a base open, to at least be able to attain some advantage in the form of runner advancement. For example, one of these rules would be \"down 4 in inning 6 or later - Bonds can bat with only one runner on.\" or \"down 10 in inning 2? Bonds time\".\n",
    "\n",
    "\n",
    "In order to explain Bonds' value to our team in this hypothetical, we can just really just view Bonds for what he is: the most feared pinch hitter ever. He can be viewed as a superpower, never before seen in the game. For one at bat, he appears and bends pitchers and managers to his will, then disappears as if a phantom. With the proposed increased occurrence of IBB, this pinch hitter could likely get on base at a truly preposterous level, perhaps around 75 or 80 percent of the time. \n",
    "\n",
    "\n",
    "The last thing to note is the opportunity cost of having this sort of player on the roster. But this shouldn't be significant, as he would likely replace a similar type of DH/utility player who has been on rosters even to this day (think Nelson Cruz or Miguel Cabrera). Overall, the sheer power of Bonds to be a near guaranteed walk or hit supersedes any concern about his one-at-bat limitation, if this at bat is utilized in the proper way."
   ]
  }
 ],
 "metadata": {
  "kernelspec": {
   "display_name": "Python 3 (ipykernel)",
   "language": "python",
   "name": "python3"
  },
  "language_info": {
   "codemirror_mode": {
    "name": "ipython",
    "version": 3
   },
   "file_extension": ".py",
   "mimetype": "text/x-python",
   "name": "python",
   "nbconvert_exporter": "python",
   "pygments_lexer": "ipython3",
   "version": "3.9.7"
  }
 },
 "nbformat": 4,
 "nbformat_minor": 5
}
